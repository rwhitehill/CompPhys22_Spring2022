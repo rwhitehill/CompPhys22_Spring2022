{
 "cells": [
  {
   "cell_type": "code",
   "execution_count": 1,
   "id": "79f54eb6-f064-468c-a5aa-315fb3ac1b3b",
   "metadata": {},
   "outputs": [],
   "source": [
    "import sympy as sp"
   ]
  },
  {
   "cell_type": "code",
   "execution_count": null,
   "id": "81f3a3c9-8a5a-471c-9d4c-f3009bdfd376",
   "metadata": {},
   "outputs": [],
   "source": [
    "a = sp.Symbol('v',real=True)\n",
    "v = sp.Symbol('v',real=True)\n",
    "x = sp.Symbol('x',real=True)\n",
    "\n",
    "alfa = sp.symbols(r'\\alpha',real=True,positive=True)\n",
    "beta = sp.symbols(r'\\beta',real=True,positive=True)\n",
    "g = sp.symbols(r'g',real=True,positive=True)"
   ]
  },
  {
   "cell_type": "markdown",
   "id": "91fd8fbc-21fd-4d26-ab73-5c7843766533",
   "metadata": {},
   "source": [
    "# For free-fall analysis"
   ]
  },
  {
   "cell_type": "code",
   "execution_count": null,
   "id": "19aeba93-aada-4e21-ae41-58766a0fbeab",
   "metadata": {},
   "outputs": [],
   "source": [
    "chisq_summand = (a + alfa*v + beta*v**2 + g)**2\n",
    "chisq_deriv_a = sp.diff(chisq_summand,alfa).expand()\n",
    "chisq_deriv_b = sp.diff(chisq_summand,beta).expand()\n",
    "chisq_deriv_g = sp.diff(chisq_summand,g).expand()"
   ]
  },
  {
   "cell_type": "code",
   "execution_count": null,
   "id": "cc1765f3-be57-43b6-b2bc-0d76c7465acb",
   "metadata": {},
   "outputs": [],
   "source": [
    "sp.init_printing()\n",
    "display(chisq_deriv_a)\n",
    "display(chisq_deriv_b)\n",
    "display(chisq_deriv_g)"
   ]
  },
  {
   "cell_type": "code",
   "execution_count": null,
   "id": "987d1474-0038-411d-973d-6aef1ce3346a",
   "metadata": {},
   "outputs": [],
   "source": [
    "sv   = sp.Symbol(r'(\\sum v)',real=True)\n",
    "sv2  = sp.Symbol(r'(\\sum v^{2})',real=True)\n",
    "sv3  = sp.Symbol(r'(\\sum v^{3})',real=True)\n",
    "sv4  = sp.Symbol(r'(\\sum v^{4})',real=True)\n",
    "sav  = sp.Symbol(r'(\\sum av)',real=True)\n",
    "sa   = sp.Symbol(r'(\\sum a)',real=True)\n",
    "sav2 = sp.Symbol(r'(\\sum av^{2})',real=True)\n",
    "N    = sp.Symbol(r'N',real=True,positive=True)"
   ]
  },
  {
   "cell_type": "code",
   "execution_count": null,
   "id": "2a4c9350-8755-49a2-bdb3-de788f6d7da3",
   "metadata": {},
   "outputs": [],
   "source": [
    "A = sp.Matrix([\n",
    "    [sv2,sv3,sv],\n",
    "    [sv3,sv4,sv2],\n",
    "    [sv,sv2,N]\n",
    "])\n",
    "b = -1*sp.Matrix([sav,sav2,sa])"
   ]
  },
  {
   "cell_type": "code",
   "execution_count": null,
   "id": "cfaef4f7-5df9-4d8c-bebe-5a4f82213bad",
   "metadata": {},
   "outputs": [],
   "source": [
    "params = A.inv() * b\n",
    "for i in range(len(params)):\n",
    "    params[i] = params[i].simplify(deep=True)"
   ]
  },
  {
   "cell_type": "code",
   "execution_count": null,
   "id": "4166dd44-d8e9-4cc0-b999-fa23b10914e8",
   "metadata": {},
   "outputs": [],
   "source": [
    "params"
   ]
  },
  {
   "cell_type": "markdown",
   "id": "4a17e18c-a866-4c76-8b03-6d6c12b88c38",
   "metadata": {},
   "source": [
    "### Other Stuff"
   ]
  },
  {
   "cell_type": "code",
   "execution_count": 4,
   "id": "e3e6ee5a-c1b7-4470-9230-f0f750c0e18a",
   "metadata": {},
   "outputs": [
    {
     "data": {
      "text/plain": [
       "(a0, a1, a2, a3, a4)"
      ]
     },
     "execution_count": 4,
     "metadata": {},
     "output_type": "execute_result"
    }
   ],
   "source": [
    "f = sp.Function('f')\n",
    "x = sp.Symbol('x',real=True)\n",
    "h = sp.Symbol('h',real=True,positive=True)\n",
    "a = sp.symbols('a:5')\n",
    "a"
   ]
  },
  {
   "cell_type": "markdown",
   "id": "0ba4c8d4-88d2-472c-bc1f-c34faa024ef7",
   "metadata": {},
   "source": [
    "### Forward"
   ]
  },
  {
   "cell_type": "code",
   "execution_count": 5,
   "id": "ae33c5d5-8ace-482e-9f10-2b4b090dbbf2",
   "metadata": {},
   "outputs": [
    {
     "data": {
      "text/latex": [
       "$\\displaystyle a_{0} + a_{1} + a_{2} + a_{3} + a_{4}$"
      ],
      "text/plain": [
       "a0 + a1 + a2 + a3 + a4"
      ]
     },
     "metadata": {},
     "output_type": "display_data"
    },
    {
     "data": {
      "text/latex": [
       "$\\displaystyle a_{1} + 2 a_{2} + 3 a_{3} + 4 a_{4}$"
      ],
      "text/plain": [
       "a1 + 2*a2 + 3*a3 + 4*a4"
      ]
     },
     "metadata": {},
     "output_type": "display_data"
    },
    {
     "data": {
      "text/latex": [
       "$\\displaystyle \\frac{a_{1}}{2} + 2 a_{2} + \\frac{9 a_{3}}{2} + 8 a_{4} - 1$"
      ],
      "text/plain": [
       "a1/2 + 2*a2 + 9*a3/2 + 8*a4 - 1"
      ]
     },
     "metadata": {},
     "output_type": "display_data"
    },
    {
     "data": {
      "text/latex": [
       "$\\displaystyle \\frac{a_{1}}{6} + \\frac{4 a_{2}}{3} + \\frac{9 a_{3}}{2} + \\frac{32 a_{4}}{3}$"
      ],
      "text/plain": [
       "a1/6 + 4*a2/3 + 9*a3/2 + 32*a4/3"
      ]
     },
     "metadata": {},
     "output_type": "display_data"
    },
    {
     "data": {
      "text/latex": [
       "$\\displaystyle \\frac{a_{1}}{24} + \\frac{2 a_{2}}{3} + \\frac{27 a_{3}}{8} + \\frac{32 a_{4}}{3}$"
      ],
      "text/plain": [
       "a1/24 + 2*a2/3 + 27*a3/8 + 32*a4/3"
      ]
     },
     "metadata": {},
     "output_type": "display_data"
    }
   ],
   "source": [
    "result = 0\n",
    "for i in range(len(a)):\n",
    "    result += a[i]*sp.series(f(x+i*h),h,n=len(a)).removeO()\n",
    "result = result.expand().factor(h)\n",
    "# display(result)\n",
    "\n",
    "eqs = []\n",
    "\n",
    "for i in range(len(a)):\n",
    "    rhs = 0\n",
    "    \n",
    "    eq = result.subs(h,0)\n",
    "    if i == 2: rhs = 1\n",
    "    eqs.append(eq.factor()/sp.diff(f(x),x,i) - rhs)\n",
    "    result = result - eq\n",
    "    result = result.expand().simplify().factor(h)/h\n",
    "    \n",
    "for i in range(len(eqs)):\n",
    "    display(eqs[i])"
   ]
  },
  {
   "cell_type": "code",
   "execution_count": 6,
   "id": "a9a471c7-fc17-4afc-bcc1-d859f8174b86",
   "metadata": {},
   "outputs": [],
   "source": [
    "sol = sp.solve(eqs,a)"
   ]
  },
  {
   "cell_type": "code",
   "execution_count": 7,
   "id": "391d1f2f-b8f8-4deb-9b1c-64073e2a9a4e",
   "metadata": {},
   "outputs": [
    {
     "data": {
      "text/plain": [
       "{a0: 35/12, a1: -26/3, a2: 19/2, a3: -14/3, a4: 11/12}"
      ]
     },
     "execution_count": 7,
     "metadata": {},
     "output_type": "execute_result"
    }
   ],
   "source": [
    "sol"
   ]
  },
  {
   "cell_type": "code",
   "execution_count": 8,
   "id": "86ef74a2-49b0-4b2d-8804-b6f7ec55ef50",
   "metadata": {},
   "outputs": [
    {
     "data": {
      "text/latex": [
       "$\\displaystyle h^{2}$"
      ],
      "text/plain": [
       "h**2"
      ]
     },
     "execution_count": 8,
     "metadata": {},
     "output_type": "execute_result"
    }
   ],
   "source": [
    "stuff = 0\n",
    "for i in range(len(sol)):\n",
    "    stuff += sol[a[i]]*sp.series(f(x+i*h),h,n=len(sol)).removeO()\n",
    "stuff = stuff.expand().factor(h)\n",
    "factor = (stuff/sp.diff(f(x),x,2)).doit()\n",
    "factor"
   ]
  },
  {
   "cell_type": "code",
   "execution_count": 9,
   "id": "67f92cf2-af79-4ed7-87cf-5f4affa372ab",
   "metadata": {},
   "outputs": [
    {
     "data": {
      "text/latex": [
       "$\\displaystyle \\frac{35 f{\\left(x \\right)} - 104 f{\\left(h + x \\right)} + 114 f{\\left(2 h + x \\right)} - 56 f{\\left(3 h + x \\right)} + 11 f{\\left(4 h + x \\right)}}{12 h^{2}}$"
      ],
      "text/plain": [
       "(35*f(x) - 104*f(h + x) + 114*f(2*h + x) - 56*f(3*h + x) + 11*f(4*h + x))/(12*h**2)"
      ]
     },
     "metadata": {},
     "output_type": "display_data"
    }
   ],
   "source": [
    "stuff = 0\n",
    "for i in range(len(sol)):\n",
    "    stuff += sol[a[i]]*f(x+i*h)\n",
    "stuff = stuff.together()/factor\n",
    "display(stuff)"
   ]
  },
  {
   "cell_type": "markdown",
   "id": "2cb7dbfa-95aa-4a30-ba84-7a3badcf3278",
   "metadata": {},
   "source": [
    "### Backward"
   ]
  },
  {
   "cell_type": "code",
   "execution_count": 26,
   "id": "b6093f3a-7050-4eca-9dd8-29c44c2e8d24",
   "metadata": {},
   "outputs": [
    {
     "data": {
      "text/latex": [
       "$\\displaystyle a_{0} + a_{1} + a_{2} + a_{3} + a_{4}$"
      ],
      "text/plain": [
       "a0 + a1 + a2 + a3 + a4"
      ]
     },
     "metadata": {},
     "output_type": "display_data"
    },
    {
     "data": {
      "text/latex": [
       "$\\displaystyle - a_{1} - 2 a_{2} - 3 a_{3} - 4 a_{4}$"
      ],
      "text/plain": [
       "-a1 - 2*a2 - 3*a3 - 4*a4"
      ]
     },
     "metadata": {},
     "output_type": "display_data"
    },
    {
     "data": {
      "text/latex": [
       "$\\displaystyle \\frac{a_{1}}{2} + 2 a_{2} + \\frac{9 a_{3}}{2} + 8 a_{4} - 1$"
      ],
      "text/plain": [
       "a1/2 + 2*a2 + 9*a3/2 + 8*a4 - 1"
      ]
     },
     "metadata": {},
     "output_type": "display_data"
    },
    {
     "data": {
      "text/latex": [
       "$\\displaystyle - \\frac{a_{1}}{6} - \\frac{4 a_{2}}{3} - \\frac{9 a_{3}}{2} - \\frac{32 a_{4}}{3}$"
      ],
      "text/plain": [
       "-a1/6 - 4*a2/3 - 9*a3/2 - 32*a4/3"
      ]
     },
     "metadata": {},
     "output_type": "display_data"
    },
    {
     "data": {
      "text/latex": [
       "$\\displaystyle \\frac{a_{1}}{24} + \\frac{2 a_{2}}{3} + \\frac{27 a_{3}}{8} + \\frac{32 a_{4}}{3}$"
      ],
      "text/plain": [
       "a1/24 + 2*a2/3 + 27*a3/8 + 32*a4/3"
      ]
     },
     "metadata": {},
     "output_type": "display_data"
    }
   ],
   "source": [
    "result = 0\n",
    "for i in range(len(a)):\n",
    "    result += a[i]*sp.series(f(x-i*h),h,n=5).removeO()\n",
    "result = result.expand().factor(h)\n",
    "# display(result)\n",
    "\n",
    "eqs = []\n",
    "\n",
    "for i in range(len(a)):\n",
    "    rhs = 0\n",
    "    \n",
    "    eq = result.subs(h,0)\n",
    "    if i == 2: rhs = 1\n",
    "    eqs.append(eq.factor()/sp.diff(f(x),x,i) - rhs)\n",
    "    result = result - eq\n",
    "    result = result.expand().simplify().factor(h)/h\n",
    "    \n",
    "for i in range(len(eqs)):\n",
    "    display(eqs[i])"
   ]
  },
  {
   "cell_type": "code",
   "execution_count": 27,
   "id": "590989bd-8ec3-45de-b75e-45dbe711de90",
   "metadata": {},
   "outputs": [],
   "source": [
    "sol = sp.solve(eqs,a)"
   ]
  },
  {
   "cell_type": "code",
   "execution_count": 28,
   "id": "e6cf520b-97d2-4aa6-9ead-c99290537ad3",
   "metadata": {},
   "outputs": [
    {
     "data": {
      "text/plain": [
       "{a0: 35/12, a1: -26/3, a2: 19/2, a3: -14/3, a4: 11/12}"
      ]
     },
     "execution_count": 28,
     "metadata": {},
     "output_type": "execute_result"
    }
   ],
   "source": [
    "sol"
   ]
  },
  {
   "cell_type": "code",
   "execution_count": 29,
   "id": "540e5feb-da57-40db-8738-dc9724757758",
   "metadata": {},
   "outputs": [
    {
     "data": {
      "text/latex": [
       "$\\displaystyle h^{2}$"
      ],
      "text/plain": [
       "h**2"
      ]
     },
     "execution_count": 29,
     "metadata": {},
     "output_type": "execute_result"
    }
   ],
   "source": [
    "stuff = 0\n",
    "for i in range(len(sol)):\n",
    "    stuff += sol[a[i]]*sp.series(f(x-i*h),h,n=5).removeO()\n",
    "stuff = stuff.expand().factor(h)\n",
    "factor = (stuff/sp.diff(f(x),x,2)).doit()\n",
    "factor"
   ]
  },
  {
   "cell_type": "code",
   "execution_count": 30,
   "id": "37a9dd89-eab0-47c4-a128-ec5137441d32",
   "metadata": {},
   "outputs": [
    {
     "data": {
      "text/latex": [
       "$\\displaystyle \\frac{35 f{\\left(x \\right)} + 11 f{\\left(- 4 h + x \\right)} - 56 f{\\left(- 3 h + x \\right)} + 114 f{\\left(- 2 h + x \\right)} - 104 f{\\left(- h + x \\right)}}{12 h^{2}}$"
      ],
      "text/plain": [
       "(35*f(x) + 11*f(-4*h + x) - 56*f(-3*h + x) + 114*f(-2*h + x) - 104*f(-h + x))/(12*h**2)"
      ]
     },
     "metadata": {},
     "output_type": "display_data"
    }
   ],
   "source": [
    "stuff = 0\n",
    "for i in range(len(sol)):\n",
    "    stuff += sol[a[i]]*f(x-i*h)\n",
    "stuff = stuff.together()/factor\n",
    "display(stuff)"
   ]
  },
  {
   "cell_type": "markdown",
   "id": "d93712fc-2e07-489c-8692-290bfbf64695",
   "metadata": {},
   "source": [
    "### Central"
   ]
  },
  {
   "cell_type": "code",
   "execution_count": 154,
   "id": "1a941ec9-9f84-4fc7-954c-8df47c633fcf",
   "metadata": {},
   "outputs": [
    {
     "data": {
      "image/png": "[encoded data removed]",
      "text/latex": [
       "$\\displaystyle a_{0} + a_{1} + a_{2} + a_{3} + a_{4}$"
      ],
      "text/plain": [
       "a₀ + a₁ + a₂ + a₃ + a₄"
      ]
     },
     "metadata": {},
     "output_type": "display_data"
    },
    {
     "data": {
      "image/png": "[encoded data removed]",
      "text/latex": [
       "$\\displaystyle - 2 a_{0} - a_{1} + a_{3} + 2 a_{4}$"
      ],
      "text/plain": [
       "-2⋅a₀ - a₁ + a₃ + 2⋅a₄"
      ]
     },
     "metadata": {},
     "output_type": "display_data"
    },
    {
     "data": {
      "image/png": "[encoded data removed]",
      "text/latex": [
       "$\\displaystyle 2 a_{0} + \\frac{a_{1}}{2} + \\frac{a_{3}}{2} + 2 a_{4} - 1$"
      ],
      "text/plain": [
       "       a₁   a₃           \n",
       "2⋅a₀ + ── + ── + 2⋅a₄ - 1\n",
       "       2    2            "
      ]
     },
     "metadata": {},
     "output_type": "display_data"
    },
    {
     "data": {
      "image/png": "[encoded data removed]",
      "text/latex": [
       "$\\displaystyle - \\frac{4 a_{0}}{3} - \\frac{a_{1}}{6} + \\frac{a_{3}}{6} + \\frac{4 a_{4}}{3}$"
      ],
      "text/plain": [
       "  4⋅a₀   a₁   a₃   4⋅a₄\n",
       "- ──── - ── + ── + ────\n",
       "   3     6    6     3  "
      ]
     },
     "metadata": {},
     "output_type": "display_data"
    },
    {
     "data": {
      "image/png": "[encoded data removed]",
      "text/latex": [
       "$\\displaystyle \\frac{2 a_{0}}{3} + \\frac{a_{1}}{24} + \\frac{a_{3}}{24} + \\frac{2 a_{4}}{3}$"
      ],
      "text/plain": [
       "2⋅a₀   a₁   a₃   2⋅a₄\n",
       "──── + ── + ── + ────\n",
       " 3     24   24    3  "
      ]
     },
     "metadata": {},
     "output_type": "display_data"
    }
   ],
   "source": [
    "result = a[0]*sp.series(f(x-2*h),h,n=5).removeO()\n",
    "result += a[1]*sp.series(f(x-h),h,n=5).removeO()\n",
    "result += a[2]*f(x)\n",
    "result += a[3]*sp.series(f(x+h),h,n=5).removeO()\n",
    "result += a[4]*sp.series(f(x+2*h),h,n=5).removeO()\n",
    "result = result.expand().factor(h)\n",
    "# display(result)\n",
    "\n",
    "eqs = []\n",
    "\n",
    "for i in range(len(a)):\n",
    "    rhs = 0\n",
    "    \n",
    "    eq = result.subs(h,0)\n",
    "    if i == 2: rhs = 1\n",
    "    eqs.append(eq.factor()/sp.diff(f(x),x,i) - rhs)\n",
    "    result = result - eq\n",
    "    result = result.expand().simplify().factor(h)/h\n",
    "\n",
    "# eq = result.subs(h,0)\n",
    "# eqs.append(eq.factor()/sp.diff(f(x),x))\n",
    "# result = result - eq1\n",
    "# result = result.expand().simplify().factor(h)/h\n",
    "\n",
    "# eq = result.subs(h,0)\n",
    "# eqs.append(eq.factor()/sp.diff(f(x),x,2) - 1)\n",
    "# result = result - eq2\n",
    "# result = result.expand().simplify().factor(h)/h\n",
    "\n",
    "# eq = result.subs(h,0)\n",
    "# eqs.append(eq.factor()/sp.diff(f(x),x,3))\n",
    "\n",
    "for i in range(len(eqs)):\n",
    "    display(eqs[i])\n",
    "# display(eqs[0])\n",
    "# display(eqs[1])\n",
    "# display(eqs[2])\n",
    "# display(eqs[3])"
   ]
  },
  {
   "cell_type": "code",
   "execution_count": 156,
   "id": "1eea4a17-ce33-43a9-aa07-6c3d3cc40f00",
   "metadata": {},
   "outputs": [],
   "source": [
    "sol = sp.solve(eqs,a)"
   ]
  },
  {
   "cell_type": "code",
   "execution_count": 157,
   "id": "42dbfe5a-9f5c-4052-8b80-5050223f3395",
   "metadata": {},
   "outputs": [
    {
     "data": {
      "image/png": "[encoded data removed]",
      "text/latex": [
       "$\\displaystyle \\left\\{ a_{0} : - \\frac{1}{12}, \\  a_{1} : \\frac{4}{3}, \\  a_{2} : - \\frac{5}{2}, \\  a_{3} : \\frac{4}{3}, \\  a_{4} : - \\frac{1}{12}\\right\\}$"
      ],
      "text/plain": [
       "{a₀: -1/12, a₁: 4/3, a₂: -5/2, a₃: 4/3, a₄: -1/12}"
      ]
     },
     "execution_count": 157,
     "metadata": {},
     "output_type": "execute_result"
    }
   ],
   "source": [
    "sol"
   ]
  },
  {
   "cell_type": "code",
   "execution_count": 163,
   "id": "8629b68e-acbe-4f09-b871-d5478d452d58",
   "metadata": {},
   "outputs": [],
   "source": [
    "stuff = sol[a[0]]*sp.series(f(x-2*h),h,n=5).removeO()\n",
    "stuff += sol[a[1]]*sp.series(f(x-h),h,n=5).removeO()\n",
    "stuff += sol[a[2]]*f(x)\n",
    "stuff += sol[a[3]]*sp.series(f(x+h),h,n=5).removeO()\n",
    "stuff += sol[a[4]]*sp.series(f(x+2*h),h,n=5).removeO()\n",
    "stuff = stuff.expand().factor(h)"
   ]
  },
  {
   "cell_type": "code",
   "execution_count": 170,
   "id": "2510717c-7d26-4597-be52-275018e421c4",
   "metadata": {},
   "outputs": [
    {
     "data": {
      "image/png": "[encoded data removed]",
      "text/latex": [
       "$\\displaystyle \\frac{- 30 f{\\left(x \\right)} - f{\\left(- 2 h + x \\right)} + 16 f{\\left(- h + x \\right)} + 16 f{\\left(h + x \\right)} - f{\\left(2 h + x \\right)}}{12 h^{2}}$"
      ],
      "text/plain": [
       "-30⋅f(x) - f(-2⋅h + x) + 16⋅f(-h + x) + 16⋅f(h + x) - f(2⋅h + x)\n",
       "────────────────────────────────────────────────────────────────\n",
       "                                 2                              \n",
       "                             12⋅h                               "
      ]
     },
     "metadata": {},
     "output_type": "display_data"
    }
   ],
   "source": [
    "stuff = 0\n",
    "for i in range(len(sol)):\n",
    "    stuff += sol[a[i]]*f(x+(i-2)*h)\n",
    "stuff = stuff.together()/h**2\n",
    "display(stuff)\n",
    "# stuff = sol[a[0]]f(x-2*h),h,n=5).removeO()\n",
    "# stuff += sol[a[1]]*sp.series(f(x-h),h,n=5).removeO()\n",
    "# stuff += sol[a[2]]*f(x)\n",
    "# stuff += sol[a[3]]*sp.series(f(x+h),h,n=5).removeO()\n",
    "# stuff += sol[a[4]]*sp.series(f(x+2*h),h,n=5).removeO()\n",
    "# stuff = stuff.expand().factor(h)"
   ]
  },
  {
   "cell_type": "code",
   "execution_count": null,
   "id": "da991299-75b0-4f01-a76f-a83e0c075d56",
   "metadata": {},
   "outputs": [],
   "source": []
  }
 ],
 "metadata": {
  "kernelspec": {
   "display_name": "Python 3 (ipykernel)",
   "language": "python",
   "name": "python3"
  },
  "language_info": {
   "codemirror_mode": {
    "name": "ipython",
    "version": 3
   },
   "file_extension": ".py",
   "mimetype": "text/x-python",
   "name": "python",
   "nbconvert_exporter": "python",
   "pygments_lexer": "ipython3",
   "version": "3.8.10"
  }
 },
 "nbformat": 4,
 "nbformat_minor": 5
}

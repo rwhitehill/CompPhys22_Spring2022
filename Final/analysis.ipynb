{
 "cells": [
  {
   "cell_type": "code",
   "execution_count": 1,
   "id": "cd1450b5-931d-4999-b28f-e36b1f63af04",
   "metadata": {},
   "outputs": [],
   "source": [
    "import numpy as np\n",
    "import sympy as sp\n",
    "from scipy.optimize import curve_fit\n",
    "from scipy.stats import norm\n",
    "import matplotlib.pyplot as plt\n",
    "\n",
    "from matplotlib import rcParams\n",
    "rcParams['text.latex.preamble'] = r'\\usepackage{amsmath} \\usepackage[per-mode=symbol]{siunitx}'\n",
    "rcParams['text.usetex']         = True\n",
    "rcParams['font.family']         = 'sans-serif'\n",
    "rcParams['font.sans-serif']     = ['Helvetica']"
   ]
  },
  {
   "cell_type": "code",
   "execution_count": 2,
   "id": "d3c97b17-dab5-4c7f-83c8-36c41408ee1f",
   "metadata": {},
   "outputs": [],
   "source": [
    "import pint\n",
    "ureg = pint.UnitRegistry()\n",
    "Q_ = ureg.Quantity"
   ]
  },
  {
   "cell_type": "markdown",
   "id": "dae932a5-159f-4b86-ac7a-0dd66cf032cd",
   "metadata": {},
   "source": [
    "### Things to add on if there is time\n",
    "* error propagation (through derivatives, etc.)\n",
    "* units (pint module)"
   ]
  },
  {
   "cell_type": "markdown",
   "id": "e9ae8f86-a070-491f-b4bf-7f4c5c9fdef7",
   "metadata": {},
   "source": [
    "### Universal Constants"
   ]
  },
  {
   "cell_type": "code",
   "execution_count": null,
   "id": "73235596-4912-453f-9724-4fe68861cc8c",
   "metadata": {},
   "outputs": [],
   "source": [
    "frame_rate = Q_(1.0/30.0,'s') # seconds\n",
    "mass_red   = None # grams\n",
    "mass_base  = None # grams\n",
    "\n",
    "mass_blue = None # grams\n",
    "L = 2.0 # meters"
   ]
  },
  {
   "cell_type": "markdown",
   "id": "99f03bb8-df56-450c-ba67-becfab7ad7bb",
   "metadata": {},
   "source": [
    "# Ball Drop Analysis"
   ]
  },
  {
   "cell_type": "markdown",
   "id": "a14e1b21-577c-4f7c-bc93-2b79c8cc7f55",
   "metadata": {
    "tags": []
   },
   "source": [
    "### Data Initialization"
   ]
  },
  {
   "cell_type": "code",
   "execution_count": null,
   "id": "e65cd098-9b33-4a46-953b-c2c2a88311f7",
   "metadata": {},
   "outputs": [],
   "source": [
    "### Initialize drop data\n",
    "drop_data = {}\n",
    "drop_data['red']  = {}\n",
    "drop_data['base'] = {}\n",
    "\n",
    "for _ in list(drop_data.keys()):\n",
    "    drop_data[_]['pos'] = []\n",
    "    \n",
    "### Red Ball\n",
    "    \n",
    "drop_data['red']['pos'].append(Q_(np.array([\n",
    "-5.936958196E-3,-1.783706639E-2,-3.355164627E-2,-6.482071833E-2,\n",
    "-1.065598482E-1,-1.625838494E-1,-2.265381929E-1,-2.995025198E-1,\n",
    "-3.880640950E-1,-4.820012928E-1,-5.901702800E-1,-7.101803071E-1,\n",
    "-8.417722297E-1,-9.812655362E-1,-1.131187792E0,-1.288931383E0,\n",
    "-1.463604859E0,-1.656525098E0,-1.859888688E0\n",
    "]),'m'))\n",
    "\n",
    "drop_data['red']['pos'].append(Q_(np.array([\n",
    "-1.845200028E-2,-2.248757992E-2,-3.664592119E-2,-6.276491897E-2,\n",
    "-1.005815509E-1,-1.488511144E-1,-2.087006494E-1,-2.791366361E-1,\n",
    "-3.623878433E-1,-4.550103558E-1,-5.605537921E-1,-6.777754358E-1,\n",
    "-8.055530902E-1,-9.436950147E-1,-1.090978896E0,-1.251257602E0,\n",
    "-1.416770659E0,-1.605736760E0,-1.797309309E0,-2.003203811E0\n",
    "]),'m'))\n",
    "\n",
    "drop_data['red']['pos'].append(Q_(np.array([\n",
    "8.694084861E-3,8.945858629E-4,-1.334832349E-2,-3.932128996E-2,\n",
    "-7.818590364E-2,-1.251658226E-1,-1.846611109E-1,-2.612697346E-1,\n",
    "-3.430954271E-1,-4.365466250E-1,-5.416541965E-1,-6.585605907E-1,\n",
    "-7.870232695E-1,-9.233695741E-1,-1.073921059E0,-1.227107364E0,\n",
    "-1.399788745E0,-1.575056790E0,-1.767145753E0,-1.948891417E0\n",
    "]),'m'))\n",
    "\n",
    "### Baseball\n",
    "\n",
    "drop_data['base']['pos'].append(Q_(np.array([\n",
    "-2.664755198E-2,-4.367235057E-2,-6.462707975E-2,\n",
    "-1.011454247E-1,-1.310553813E-1,-1.935970963E-1,-2.602199722E-1,\n",
    "-3.369954352E-1,-4.256249872E-1,-5.300028910E-1,-6.460000231E-1,\n",
    "-7.516147643E-1,-8.819911787E-1,-1.024100135E0,-1.185734071E0,\n",
    "-1.348705090E0,-1.524702426E0,-1.674635952E0,-1.876740599E0,-2.056624767E0\n",
    "]),'m'))\n",
    "\n",
    "drop_data['base']['pos'].append(Q_(np.array([\n",
    "1.494029606E-2,-4.660327995E-3,-3.371800097E-2,-5.976583962E-2,\n",
    "-1.093965489E-1,-1.635243614E-1,-2.423808379E-1,-3.229186144E-1,\n",
    "-4.108708311E-1,-5.141070872E-1,-6.252422019E-1,-7.519278209E-1,\n",
    "-8.904166982E-1,-1.035491405E0,-1.228814281E0,-1.389542590E0,\n",
    "-1.534582460E0,-1.707065799E0,-1.931825282E0\n",
    "]),'m'))\n",
    "\n",
    "drop_data['base']['pos'].append(Q_(np.array([\n",
    "-2.211146866E-2,-3.094413983E-2,-4.291057729E-2,-6.380538559E-2,\n",
    "-9.356474780E-2,-1.403537802E-1,-1.989516002E-1,-2.653531140E-1,\n",
    "-3.458360358E-1,-4.434010458E-1,-5.385375726E-1,-6.516118574E-1,\n",
    "-7.817008924E-1,-9.156849628E-1,-1.063953627E0,-1.229717403E0,\n",
    "-1.381908163E0,-1.560052643E0,-1.768917493E0,-1.993943144E0\n",
    "]),'m'))"
   ]
  },
  {
   "cell_type": "markdown",
   "id": "28a28267-7937-42a5-95d3-d845443c78ea",
   "metadata": {},
   "source": [
    "### Add errors\n",
    "$\\delta y = {\\rm diameter} + 1 {\\rm cm} + \\sqrt{20\\times{\\rm frame}}$"
   ]
  },
  {
   "cell_type": "code",
   "execution_count": null,
   "id": "02624d50-96df-4bfa-81d8-7030950d3e60",
   "metadata": {},
   "outputs": [],
   "source": [
    "def get_error(frame,which):\n",
    "    if which=='red': diam=Q_(7,'cm')\n",
    "    elif which=='base': diam=Q_(7.5,'cm')\n",
    "    alfa = (diam/2.0)**2.0 / 20.0\n",
    "    return diam / 2.0 + Q_(1.0,'cm') + np.sqrt(alfa * frame)"
   ]
  },
  {
   "cell_type": "code",
   "execution_count": null,
   "id": "98d2a7d1-c1f1-4853-95b9-6a9d44209014",
   "metadata": {},
   "outputs": [],
   "source": [
    "for key in drop_data.keys():\n",
    "    drop_data[key]['err'] = []\n",
    "    for i in range(len(drop_data[key]['pos'])):\n",
    "        errors = get_error(np.arange(0,len(drop_data[key]['pos'][i])),key)\n",
    "        drop_data[key]['err'].append(errors)"
   ]
  },
  {
   "cell_type": "code",
   "execution_count": null,
   "id": "cd79ab9a-9424-4f98-9bd3-e61ce069eabe",
   "metadata": {},
   "outputs": [],
   "source": [
    "# y  = drop_data['red']['pos'][0].magnitude\n",
    "# dy = drop_data['red']['err'][0].to('m').magnitude\n",
    "\n",
    "# fig, ax = plt.subplots(nrows=1,ncols=1,figsize=(7,5))\n",
    "# ax.errorbar(np.arange(0,len(y)),y,yerr=dy,dash_capstyle='butt',capsize=3,fmt='k.')\n",
    "# plt.show()"
   ]
  },
  {
   "cell_type": "markdown",
   "id": "91b8ce78-dfb3-4688-8fd7-12fe68296e6e",
   "metadata": {},
   "source": [
    "### Calculate derivatives"
   ]
  },
  {
   "cell_type": "code",
   "execution_count": null,
   "id": "6e1cfd60-c0f1-42cf-b866-ac35e6f4bee6",
   "metadata": {},
   "outputs": [],
   "source": [
    "# def derivative(f):\n",
    "#     g    = f.magnitude\n",
    "#     rate = frame_rate.magnitude\n",
    "#     N = len(f)\n",
    "#     deriv = np.zeros(N)\n",
    "#     deriv[0]  = (g[1] - g[0])/rate\n",
    "#     deriv[-1] = (g[-1] - g[-2])/rate\n",
    "    \n",
    "#     for i in range(2,N-2):\n",
    "#         deriv[i] = (g[i+1] - g[i-1])/2.0/rate\n",
    "#     return Q_(deriv,f.units/frame_rate.units)\n",
    "\n",
    "# def second_derivative(f):\n",
    "#     return derivative(derivative(f))\n",
    "\n",
    "def second_derivative(f):#,f_err):\n",
    "    g    = f.magnitude\n",
    "    # h    = f_err.magnitude\n",
    "    rate = frame_rate.magnitude\n",
    "    N = len(f)\n",
    "    deriv = np.zeros(N)\n",
    "    # error = np.zeros(N)\n",
    "    deriv[0]  = (g[0] - 2*g[1] + g[2])/rate**2.0\n",
    "    deriv[1]  = (g[0] - 2*g[1] + g[2])/rate**2.0\n",
    "    deriv[-2] = (g[-1] - 2*g[-2] + g[-3])/rate**2.0\n",
    "    deriv[-1] = (g[-1] - 2*g[-2] + g[-3])/rate**2.0\n",
    "\n",
    "    ### Errors blow up -- likely an issue with covariance or something neglected\n",
    "    # error[0]  = np.sqrt(h[0]**2.0 + (2*h[1])**2.0 + h[2]**2.0)/rate**2.0\n",
    "    # error[1]  = np.sqrt(h[0]**2.0 + (2*h[1])**2.0 + h[2]**2.0)/rate**2.0\n",
    "    # error[-2] = np.sqrt(h[-1]**2.0 + (2*h[-2])**2.0 + h[-3]**2.0)/rate**2.0\n",
    "    # error[-1] = np.sqrt(h[-1]**2.0 + (2*h[-2])**2.0 + h[-3]**2.0)/rate**2.0\n",
    "    \n",
    "    for i in range(2,N-2):\n",
    "        deriv[i] = (-g[i+2] + 16*g[i+1] - 30*g[i] + 16*g[i-1] - g[i-2])/12.0/rate**2.0\n",
    "        # error[i] = np.sqrt(h[i+2]**2.0 + (16*h[i+1])**2.0 + (30*h[i])**2.0 + (16*h[i-1]**2.0) + (g[i-2])**2.0)/12.0/rate**2.0\n",
    "    return Q_(deriv,f.units/frame_rate.units**2)#,Q_(error,f_err.units/frame_rate.units**2)\n",
    "\n",
    "def get_a_w_error(f,f_err):\n",
    "    # g  = f.magntiude\n",
    "    # dg = f_err.to(f.units).magntiude\n",
    "    upper = f + f_err.to(f.units)\n",
    "    lower = f - f_err.to(f.units)\n",
    "    \n",
    "    a_mean  = second_derivative(f)\n",
    "    a_upper = second_derivative(upper)\n",
    "    a_lower = second_derivative(lower)\n",
    "    a_error = 0.5*abs(a_upper-a_lower) \n",
    "    #np.maximum(abs(a_upper-a_mean),abs(a_lower-a_mean))\n",
    "    #np.array([max(abs(a_upper[i] - a_mean[i]),abs(a_lower[i]-a_mean[i])) for i in range(len(a_mean))])\n",
    "    \n",
    "    return a_mean,a_error"
   ]
  },
  {
   "cell_type": "code",
   "execution_count": null,
   "id": "978f83fb-9b6a-4d86-863f-a2d68d400b7d",
   "metadata": {},
   "outputs": [],
   "source": [
    "# a = second_derivative(drop_data['red']['pos'][0])#,drop_data['red']['err'][0])\n",
    "# a = get_a_w_error(drop_data['red']['pos'][0],drop_data['red']['err'][0])"
   ]
  },
  {
   "cell_type": "code",
   "execution_count": null,
   "id": "8c2eb71c-d7c9-4289-92ab-656018fff141",
   "metadata": {},
   "outputs": [],
   "source": [
    "### error blows up for first two points\n",
    "### likely to do with large relative error in position\n",
    "# a[1]"
   ]
  },
  {
   "cell_type": "code",
   "execution_count": null,
   "id": "7f437cf3-461e-4836-b9f4-a39a377f9155",
   "metadata": {},
   "outputs": [],
   "source": [
    "# plt.errorbar(np.arange(0,len(a[0])),a[0].magnitude,yerr=a[1].to('m/s**2').magnitude,fmt='k.',dash_capstyle='butt',capsize=3)\n",
    "# plt.axhline(y=-9.8)\n",
    "# plt.show()"
   ]
  },
  {
   "cell_type": "markdown",
   "id": "be472968-f50f-4c56-ac87-1e1fde69c4bf",
   "metadata": {},
   "source": [
    "### Fit g"
   ]
  },
  {
   "cell_type": "code",
   "execution_count": null,
   "id": "8e9c2cd2-c3fe-4ef4-9dc7-ffe2061a0ddc",
   "metadata": {},
   "outputs": [],
   "source": [
    "def fit_g(a,da):\n",
    "    g  = np.mean(a)\n",
    "    dg = np.sqrt(np.sum(da**2.0))/float(len(a))\n",
    "    return g,dg"
   ]
  },
  {
   "cell_type": "code",
   "execution_count": null,
   "id": "abf3610c-3269-4688-ae18-d6b32ff814a0",
   "metadata": {},
   "outputs": [],
   "source": [
    "g_fits = {}\n",
    "for key in drop_data.keys():\n",
    "    g_fits[key] = []\n",
    "    \n",
    "for key in drop_data.keys():\n",
    "    print(key)\n",
    "    for i in range(len(drop_data[key]['pos'])):\n",
    "        pos_data = drop_data[key]['pos'][i]\n",
    "        err_data = drop_data[key]['err'][i]\n",
    "        a_data,a_err = get_a_w_error(pos_data,err_data)\n",
    "        # print(pos_data)\n",
    "        print(a_data)\n",
    "        print(a_err)\n",
    "        print()\n",
    "        g_mean,g_err = fit_g(a_data,a_err)\n",
    "        g_mean = g_mean.to('m/s**2').magnitude\n",
    "        g_err  = g_err.to('m/s**2').magnitude\n",
    "        g_fits[key].append(np.array([g_mean,g_err]))\n",
    "    g_fits[key] = Q_(np.array(g_fits[key]),'m/s**2')"
   ]
  },
  {
   "cell_type": "code",
   "execution_count": null,
   "id": "73d68193-77bb-4c64-9038-7fbea4bfb240",
   "metadata": {},
   "outputs": [],
   "source": [
    "g_fits['red']"
   ]
  },
  {
   "cell_type": "code",
   "execution_count": null,
   "id": "572d6fd3-bf61-4208-8bc5-4776aff9075b",
   "metadata": {},
   "outputs": [],
   "source": [
    "g_fits['base']"
   ]
  },
  {
   "cell_type": "code",
   "execution_count": null,
   "id": "fd4a5a89-3d09-4d12-a306-2d6d37aacd9d",
   "metadata": {},
   "outputs": [],
   "source": [
    "f = lambda g_,t: g_*t**2.0/2.0\n",
    "\n",
    "nrows=3;ncols=2\n",
    "fig,ax = plt.subplots(nrows=nrows,ncols=ncols,figsize=(7*ncols,5*nrows))\n",
    "\n",
    "for key in drop_data.keys():\n",
    "    if key == 'red':\n",
    "        i = 0\n",
    "        ax[2][0].text(0.05,0.05,r'$\\rm red\\,ball$',size=30,transform=ax[2][0].transAxes,va='bottom',ha='left')    \n",
    "        ax[2][0].set_xlabel(r'$t~({:Lx})$'.format(frame_rate.units),size=20)\n",
    "    if key == 'base':\n",
    "        i = 1\n",
    "        ax[2][1].text(0.05,0.05,r'$\\rm baseball$',size=30,transform=ax[2][1].transAxes,va='bottom',ha='left')        \n",
    "        ax[2][1].set_xlabel(r'$t~({:Lx})$'.format(frame_rate.units),size=20)\n",
    "    g_vals = g_fits[key]\n",
    "    for j in range(len(drop_data[key]['pos'])):\n",
    "        pos = drop_data[key]['pos'][j]\n",
    "        err = drop_data[key]['err'][j].to(pos.units).magnitude\n",
    "        pos = pos.magnitude\n",
    "        ax[j][i].errorbar(frame_rate.magnitude*np.arange(0,len(pos)),pos,yerr=err,fmt='k.',capsize=3)\n",
    "        t_vals = Q_(frame_rate.magnitude*np.arange(0,len(pos)),frame_rate.units)\n",
    "        ax[j][i].plot(frame_rate.magnitude*np.arange(0,len(pos)),f(g_vals[j][0],t_vals).to('m').magnitude,'m--')\n",
    "        ax[j][i].plot(frame_rate.magnitude*np.arange(0,len(pos)),f(Q_(-9.8,'m/s**2'),t_vals).to('m').magnitude,'r-')\n",
    "        ax[j][i].text(0.97,0.97,r'$g = {:.1fLx} \\pm {:.1fLx}$'.format(abs(g_vals[j][0]),g_vals[j][1]),\n",
    "                      size=20,transform=ax[j][i].transAxes,va='top',ha='right')\n",
    "        # print(g_vals[j][0].__format__)\n",
    "        if i == 0:\n",
    "            ax[j][0].set_ylabel(r'$y~({:Lx})$'.format(drop_data[key]['pos'][j].units),size=20)\n",
    "        ax[j][i].tick_params(axis='both',which='major',labelsize=20,direction='in')\n",
    "\n",
    "ax[0][0].plot([],[],'m--',label=r'fit')\n",
    "ax[0][0].plot([],[],'r-',label=r'accepted')\n",
    "ax[0][0].legend(fontsize=20,frameon=False,loc='lower left')\n",
    "        \n",
    "plt.tight_layout()\n",
    "plt.show()"
   ]
  },
  {
   "cell_type": "markdown",
   "id": "3674bed6-4c10-4aeb-b497-5647af3870d2",
   "metadata": {},
   "source": [
    "### Final result\n",
    "\\begin{align*}\n",
    "g &= \\sum a_i/\\sigma_i^2 \\Big/ \\sum 1/\\sigma_i^2 \\\\\n",
    "\\delta g &= \\left[ \\sum 1/\\sigma_{i}^2 \\right]^{-1/2}\n",
    "\\end{align*}"
   ]
  },
  {
   "cell_type": "code",
   "execution_count": null,
   "id": "5b96f1cf-f932-4044-8c03-f655675f5e50",
   "metadata": {},
   "outputs": [],
   "source": [
    "def weight_avg(arr,err):\n",
    "    avg = np.sum(arr/err**2.0)/np.sum(1.0/err**2.0)\n",
    "    unc = 1.0/np.sqrt(np.sum(1.0/err**2.0))\n",
    "    return avg,unc"
   ]
  },
  {
   "cell_type": "code",
   "execution_count": null,
   "id": "3cb2ca23-9e63-4674-bf04-c68c082069df",
   "metadata": {},
   "outputs": [],
   "source": [
    "g_red,g_red_err = weight_avg(g_fits['red'][:,0],g_fits['red'][:,1])"
   ]
  },
  {
   "cell_type": "code",
   "execution_count": null,
   "id": "545ea138-2394-4569-8d57-b802f536100f",
   "metadata": {},
   "outputs": [],
   "source": [
    "g_base,g_base_err = weight_avg(g_fits['base'][:,0],g_fits['base'][:,1])"
   ]
  },
  {
   "cell_type": "code",
   "execution_count": null,
   "id": "25e7a8ad-ad9c-4bbd-8f5f-d8c3c7b25c0a",
   "metadata": {},
   "outputs": [],
   "source": [
    "def get_upper_lower(func,x,mean,std):\n",
    "    return func(mean+std,x),func(mean-std,x)"
   ]
  },
  {
   "cell_type": "code",
   "execution_count": null,
   "id": "16bdc09a-9971-43c2-a3cb-23f485cad635",
   "metadata": {},
   "outputs": [],
   "source": [
    "f = lambda g_,t: g_*t**2.0/2.0\n",
    "\n",
    "nrows=1;ncols=2\n",
    "fig,ax = plt.subplots(nrows=nrows,ncols=ncols,figsize=(7*ncols,5*nrows))\n",
    "\n",
    "t_vals = frame_rate*np.arange(0,20)\n",
    "\n",
    "red_upper_lower = get_upper_lower(f,t_vals,g_red,g_red_err)\n",
    "base_upper_lower = get_upper_lower(f,t_vals,g_base,g_base_err)\n",
    "ax[0].fill_between(t_vals.magnitude,red_upper_lower[0].magnitude,red_upper_lower[1].magnitude,color='y',alpha=0.5)\n",
    "ax[1].fill_between(t_vals.magnitude,red_upper_lower[0].magnitude,red_upper_lower[1].magnitude,color='y',alpha=0.5)\n",
    "\n",
    "for i in range(2):\n",
    "    key = list(drop_data.keys())[i]\n",
    "    pos = drop_data[key]['pos']\n",
    "    for j in range(len(pos)):\n",
    "        ax[i].plot(t_vals[:len(pos[j])].magnitude,pos[j].magnitude,'k.')\n",
    "        \n",
    "ax[0].text(0.97,0.9,r'$g = {:.1fLx} \\pm {:.1fLx}$'.format(abs(g_red),g_red_err),\n",
    "                      size=20,transform=ax[0].transAxes,va='bottom',ha='right')\n",
    "ax[1].text(0.97,0.9,r'$g = {:.1fLx} \\pm {:.1fLx}$'.format(abs(g_base),g_base_err),\n",
    "                      size=20,transform=ax[1].transAxes,va='bottom',ha='right')\n",
    "\n",
    "for i in range(2):\n",
    "    if i == 0: ball = r'$\\rm red\\,ball$'\n",
    "    elif i == 1: ball = r'$\\rm baseball$'\n",
    "    ax[i].text(0.05,0.05,ball,size=30,transform=ax[i].transAxes,va='bottom',ha='left')\n",
    "    ax[i].set_xlabel(r'$t~({:Lx})$'.format(t_vals.units),size=20)\n",
    "    ax[i].tick_params(axis='both',which='major',labelsize=20,direction='in')\n",
    "ax[0].set_ylabel(r'$y~({:Lx})$'.format(pos[0].units),size=20)\n",
    "\n",
    "plt.tight_layout()\n",
    "plt.show()"
   ]
  },
  {
   "cell_type": "code",
   "execution_count": 50,
   "id": "beda62b0-a03c-4f04-8e82-f4b1f60ca26c",
   "metadata": {},
   "outputs": [],
   "source": [
    "def get_acc_prec(g_mean,g_err):\n",
    "    g_acc = Q_(-9.80665,'m/s**2')\n",
    "    rel_unc = abs(g_err/g_mean) * 100.0\n",
    "    z = abs((g_mean - g_acc)/g_err)\n",
    "    rel_diff = abs((g_mean - g_acc)/g_acc) * 100.0\n",
    "    print('relative uncertainty: {:.2f}%'.format(rel_unc.magnitude))\n",
    "    print(r'percent difference: {:.2f}%'.format(rel_diff.magnitude))\n",
    "    print('z value: %.2f'%z)\n",
    "    # return rel_unc,z,rel_diff"
   ]
  },
  {
   "cell_type": "code",
   "execution_count": null,
   "id": "0c6fc934-6979-4218-820f-ffbc8ca3a24b",
   "metadata": {},
   "outputs": [],
   "source": [
    "get_acc_prec(g_red,g_red_err)"
   ]
  },
  {
   "cell_type": "code",
   "execution_count": null,
   "id": "43dbd45e-2bc2-494b-871f-e3a2bc3f50aa",
   "metadata": {},
   "outputs": [],
   "source": [
    "get_acc_prec(g_base,g_base_err)"
   ]
  },
  {
   "cell_type": "markdown",
   "id": "9d8872cb-6508-45b5-92f0-bac6d4e5b764",
   "metadata": {},
   "source": [
    "## Ball Drop with timing"
   ]
  },
  {
   "cell_type": "code",
   "execution_count": 4,
   "id": "1bed2d06-7052-4e14-aa51-364a4e3f15da",
   "metadata": {},
   "outputs": [],
   "source": [
    "h = Q_(2.0,'m')\n",
    "dh = Q_(5.0,'cm')\n",
    "dt = Q_(2*300.0,'ms')"
   ]
  },
  {
   "cell_type": "code",
   "execution_count": 54,
   "id": "e04d7bec-0114-48d2-b46b-a69612ef2216",
   "metadata": {},
   "outputs": [],
   "source": [
    "### Initialize drop data\n",
    "# drop_data = {}\n",
    "# drop_data['red']  = {}\n",
    "# drop_data['base'] = {}\n",
    "\n",
    "# for _ in list(drop_data.keys()):\n",
    "#     drop_data[_]['times'] = []\n",
    "    \n",
    "### Red Ball\n",
    "\n",
    "# red_times = Q_(np.array([1,2,3,4,5]),'s')\n",
    "red_times = np.sqrt(2*h/Q_(9.8,'m/s**2')) + Q_(np.random.normal(0,0.3,5),'s')\n",
    "    \n",
    "# drop_data['red']['times'].append(Q_(0,'m'))\n",
    "# drop_data['red']['times'].append(Q_(0,'m'))\n",
    "# drop_data['red']['times'].append(Q_(0,'m'))\n",
    "# drop_data['red']['times'].append(Q_(0,'m'))\n",
    "# drop_data['red']['times'].append(Q_(0,'m'))\n",
    "\n",
    "### Baseball\n",
    "\n",
    "# base_times = Q_(np.array([1,2,3,4,5]),'s')\n",
    "base_times = np.sqrt(2*h/Q_(9.8,'m/s**2')) + Q_(np.random.normal(0,0.3,5),'s')\n",
    "\n",
    "\n",
    "# drop_data['base']['times'].append(Q_(0,'m'))\n",
    "# drop_data['base']['times'].append(Q_(0,'m'))\n",
    "# drop_data['base']['times'].append(Q_(0,'m'))\n",
    "# drop_data['base']['times'].append(Q_(0,'m'))\n",
    "# drop_data['base']['times'].append(Q_(0,'m'))\n"
   ]
  },
  {
   "cell_type": "markdown",
   "id": "9ae6ee06-c5c6-4762-8add-5a4c5d953aad",
   "metadata": {},
   "source": [
    "### guiding equation\n",
    "$g = 2h/t^2$  \n",
    "$t = \\sqrt{2h/g}$"
   ]
  },
  {
   "cell_type": "code",
   "execution_count": 55,
   "id": "98325906-6803-44f7-a623-68dbaf296efe",
   "metadata": {},
   "outputs": [],
   "source": [
    "def g_error(T,dT):\n",
    "    error_h = 2 / T**2.0 * dh\n",
    "    error_t = -4.0 * h / T**3.0 * dT\n",
    "    return np.sqrt(error_h**2.0 + error_t**2.0)\n",
    "\n",
    "def analyze(times):\n",
    "    t = np.mean(times)\n",
    "    t_err = dt/float(len(times))\n",
    "    \n",
    "    g_mean = 2 * h / t**2.0\n",
    "    g_err = g_error(t,t_err)\n",
    "    \n",
    "    return g_mean,g_err.to(g_mean.units)"
   ]
  },
  {
   "cell_type": "code",
   "execution_count": 56,
   "id": "42ec787a-3560-4a38-a338-b18057773da0",
   "metadata": {},
   "outputs": [
    {
     "name": "stdout",
     "output_type": "stream",
     "text": [
      "red ball: g = 7 m/s² +- 2 m/s²\n",
      "baseball: g = 10 m/s² +- 4 m/s²\n"
     ]
    }
   ],
   "source": [
    "g_red  = analyze(red_times)\n",
    "g_base = analyze(base_times)\n",
    "print('red ball: g = {:.0f~P} +- {:.0f~P}'.format(g_red[0],g_red[1]))\n",
    "print('baseball: g = {:.0f~P} +- {:.0f~P}'.format(g_base[0],g_base[1]))"
   ]
  },
  {
   "cell_type": "code",
   "execution_count": 57,
   "id": "7d2c9076-480a-4ad4-ae66-f0e877031505",
   "metadata": {},
   "outputs": [
    {
     "name": "stdout",
     "output_type": "stream",
     "text": [
      "red ball\n",
      "relative uncertainty: 32.04%\n",
      "percent difference: 172.27%\n",
      "z value: 7.44\n",
      "\n",
      "base ball\n",
      "relative uncertainty: 37.81%\n",
      "percent difference: 200.81%\n",
      "z value: 5.27\n"
     ]
    }
   ],
   "source": [
    "print('red ball')\n",
    "get_acc_prec(g_red[0],g_red[1])\n",
    "print()\n",
    "print('base ball')\n",
    "get_acc_prec(g_base[0],g_base[1])"
   ]
  },
  {
   "cell_type": "code",
   "execution_count": null,
   "id": "a5319232-08c9-4a6c-aa52-187d6c9e8e49",
   "metadata": {},
   "outputs": [],
   "source": []
  },
  {
   "cell_type": "code",
   "execution_count": null,
   "id": "c1adbcc4-ea65-4cb3-b188-91d1fc132874",
   "metadata": {},
   "outputs": [],
   "source": []
  },
  {
   "cell_type": "code",
   "execution_count": null,
   "id": "8ecd9b45-7e60-4906-ba89-e13f860185ca",
   "metadata": {},
   "outputs": [],
   "source": []
  },
  {
   "cell_type": "code",
   "execution_count": null,
   "id": "df1ef9a2-c9e0-4d71-94ea-171488e91cd6",
   "metadata": {},
   "outputs": [],
   "source": []
  },
  {
   "cell_type": "code",
   "execution_count": null,
   "id": "1fca8b62-c522-4650-9208-5ac6bee5d23d",
   "metadata": {},
   "outputs": [],
   "source": []
  },
  {
   "cell_type": "code",
   "execution_count": null,
   "id": "7b121efa-0e29-4094-a001-ad4da56bde9b",
   "metadata": {},
   "outputs": [],
   "source": [
    "f = lambda g,t: -g/2.0*t**2.0\n",
    "\n",
    "fig,ax = plt.subplots(nrows=1,ncols=1,figsize=(14,10))\n",
    "\n",
    "max_frames = 0\n",
    "for _ in drop_data.keys():\n",
    "    if _ == 'red': linestyle='r.'\n",
    "    if _ == 'base': linestyle='k.'\n",
    "    for arr in drop_data[_]['pos']:\n",
    "        if len(arr) > max_frames: max_frames = len(arr)\n",
    "        ax.plot(frame_rate*np.arange(0,len(arr)),arr,linestyle)\n",
    "t_vals = frame_rate*np.arange(0,max_frames)\n",
    "max_vals = f(np.mean(g_fits)+np.std(g_fits),t_vals)\n",
    "min_vals = f(np.mean(g_fits)-np.std(g_fits),t_vals)\n",
    "ax.fill_between(t_vals,max_vals,min_vals,color='y',alpha=0.5)\n",
    "ax.plot(t_vals,f(np.mean(g_fits),t_vals),'g--')\n",
    "# g = lambda t: popt/2.0*t**2.0\n",
    "# plt.plot(drop_data['red']['time'][0],f(drop_data['red']['time'][0]),'r-')\n",
    "# plt.plot(drop_data['red']['time'][0],g(drop_data['red']['time'][0]),'c-')\n",
    "plt.show()"
   ]
  },
  {
   "cell_type": "code",
   "execution_count": null,
   "id": "6205b7f8-4637-4d72-be3a-ac4c1ed1b5fa",
   "metadata": {},
   "outputs": [],
   "source": [
    "vel = derivative(drop_data['red']['pos'][0],drop_data['red']['time'][0])\n",
    "acc = derivative(vel,drop_data['red']['time'][0])"
   ]
  },
  {
   "cell_type": "code",
   "execution_count": null,
   "id": "34e5f465-caab-4363-979f-7abf525774d6",
   "metadata": {},
   "outputs": [],
   "source": [
    "def func(t,g):\n",
    "    return -g\n",
    "\n",
    "for _ in drop_data.keys():\n",
    "    for arr in drop_data[_]['pos']:\n",
    "        v\n",
    "        popt,pcov = curve_fit(func,np.arange(0,len(a))/len(a),a)\n",
    "        print(popt)\n",
    "        # print(popt[0] - 2*pcov[0][0])\n",
    "        np.sqrt(np.diag(pcov))"
   ]
  },
  {
   "cell_type": "code",
   "execution_count": null,
   "id": "d8adc3a4-55fe-4539-96a5-8f6b1d7750b6",
   "metadata": {},
   "outputs": [],
   "source": [
    "plt.plot(drop_data['red']['time'][0],vel,'k.')\n",
    "plt.plot(drop_data['red']['time'][0],acc,'r.')\n",
    "plt.axhline(y=popt)"
   ]
  },
  {
   "cell_type": "code",
   "execution_count": null,
   "id": "13671056-f701-4926-8ba5-7f9530e7b689",
   "metadata": {},
   "outputs": [],
   "source": [
    "mean = popt[0]\n",
    "err  = np.sqrt(pcov[0][0])\n",
    "x = np.linspace(norm.ppf(0.01,mean,err),norm.ppf(0.99,mean,err), 100)\n",
    "z = abs(mean + 9.8)/err\n",
    "print(z,mean-z*err)\n",
    "xp = np.linspace(mean-z*err,mean+z*err,100)\n",
    "plt.plot(x,norm.pdf(x,mean,err),'k')\n",
    "plt.plot(-9.8,norm.pdf(-9.8,mean,err),'yo')\n",
    "plt.fill_between(xp,norm.pdf(xp,mean,err),color='red')"
   ]
  },
  {
   "cell_type": "code",
   "execution_count": null,
   "id": "9d94469d-3629-4b50-b289-033790a6d3d6",
   "metadata": {},
   "outputs": [],
   "source": [
    "x"
   ]
  },
  {
   "cell_type": "code",
   "execution_count": null,
   "id": "d98d8e46-3a86-41ee-8fa2-6a793e3bbffd",
   "metadata": {},
   "outputs": [],
   "source": []
  }
 ],
 "metadata": {
  "kernelspec": {
   "display_name": "Python 3 (ipykernel)",
   "language": "python",
   "name": "python3"
  },
  "language_info": {
   "codemirror_mode": {
    "name": "ipython",
    "version": 3
   },
   "file_extension": ".py",
   "mimetype": "text/x-python",
   "name": "python",
   "nbconvert_exporter": "python",
   "pygments_lexer": "ipython3",
   "version": "3.9.7"
  }
 },
 "nbformat": 4,
 "nbformat_minor": 5
}

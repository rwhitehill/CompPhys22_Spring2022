{
 "cells": [
  {
   "cell_type": "code",
   "execution_count": 1,
   "id": "cd1450b5-931d-4999-b28f-e36b1f63af04",
   "metadata": {},
   "outputs": [],
   "source": [
    "import numpy as np\n",
    "import sympy as sp\n",
    "from scipy.optimize import curve_fit\n",
    "from scipy.stats import norm\n",
    "import matplotlib.pyplot as plt\n",
    "\n",
    "from matplotlib import rcParams\n",
    "rcParams['text.latex.preamble'] = r'\\usepackage{amsmath}'\n",
    "rcParams['text.usetex']         = True\n",
    "rcParams['font.family']         = 'sans-serif'\n",
    "rcParams['font.sans-serif']     = ['Helvetica']"
   ]
  },
  {
   "cell_type": "code",
   "execution_count": 2,
   "id": "d3c97b17-dab5-4c7f-83c8-36c41408ee1f",
   "metadata": {},
   "outputs": [],
   "source": [
    "import pint\n",
    "ureg = pint.UnitRegistry()\n",
    "Q_ = ureg.Quantity"
   ]
  },
  {
   "cell_type": "markdown",
   "id": "dae932a5-159f-4b86-ac7a-0dd66cf032cd",
   "metadata": {},
   "source": [
    "### Things to add on if there is time\n",
    "* error propagation (through derivatives, etc.)\n",
    "* units (pint module)drops"
   ]
  },
  {
   "cell_type": "markdown",
   "id": "e9ae8f86-a070-491f-b4bf-7f4c5c9fdef7",
   "metadata": {},
   "source": [
    "### Universal Constants"
   ]
  },
  {
   "cell_type": "code",
   "execution_count": 3,
   "id": "73235596-4912-453f-9724-4fe68861cc8c",
   "metadata": {},
   "outputs": [],
   "source": [
    "frame_rate = Q_(1.0/30.0,'s') # seconds\n",
    "mass_red   = None # grams\n",
    "mass_base  = None # grams\n",
    "\n",
    "mass_blue = None # grams\n",
    "L = 2.0 # meters"
   ]
  },
  {
   "cell_type": "markdown",
   "id": "99f03bb8-df56-450c-ba67-becfab7ad7bb",
   "metadata": {},
   "source": [
    "# Ball Drop Analysis"
   ]
  },
  {
   "cell_type": "markdown",
   "id": "a14e1b21-577c-4f7c-bc93-2b79c8cc7f55",
   "metadata": {
    "tags": []
   },
   "source": [
    "### Data Initialization"
   ]
  },
  {
   "cell_type": "code",
   "execution_count": 4,
   "id": "e65cd098-9b33-4a46-953b-c2c2a88311f7",
   "metadata": {},
   "outputs": [],
   "source": [
    "### Initialize drop data\n",
    "drop_data = {}\n",
    "drop_data['red']  = {}\n",
    "drop_data['base'] = {}\n",
    "\n",
    "for _ in list(drop_data.keys()):\n",
    "    drop_data[_]['pos'] = []\n",
    "    \n",
    "### Red Ball\n",
    "    \n",
    "drop_data['red']['pos'].append(Q_(np.array([\n",
    "-5.936958196E-3,-1.783706639E-2,-3.355164627E-2,-6.482071833E-2,\n",
    "-1.065598482E-1,-1.625838494E-1,-2.265381929E-1,-2.995025198E-1,\n",
    "-3.880640950E-1,-4.820012928E-1,-5.901702800E-1,-7.101803071E-1,\n",
    "-8.417722297E-1,-9.812655362E-1,-1.131187792E0,-1.288931383E0,\n",
    "-1.463604859E0,-1.656525098E0,-1.859888688E0\n",
    "]),'m'))\n",
    "\n",
    "drop_data['red']['pos'].append(Q_(np.array([\n",
    "-1.845200028E-2,-2.248757992E-2,-3.664592119E-2,-6.276491897E-2,\n",
    "-1.005815509E-1,-1.488511144E-1,-2.087006494E-1,-2.791366361E-1,\n",
    "-3.623878433E-1,-4.550103558E-1,-5.605537921E-1,-6.777754358E-1,\n",
    "-8.055530902E-1,-9.436950147E-1,-1.090978896E0,-1.251257602E0,\n",
    "-1.416770659E0,-1.605736760E0,-1.797309309E0,-2.003203811E0\n",
    "]),'m'))\n",
    "\n",
    "drop_data['red']['pos'].append(Q_(np.array([\n",
    "8.694084861E-3,8.945858629E-4,-1.334832349E-2,-3.932128996E-2,\n",
    "-7.818590364E-2,-1.251658226E-1,-1.846611109E-1,-2.612697346E-1,\n",
    "-3.430954271E-1,-4.365466250E-1,-5.416541965E-1,-6.585605907E-1,\n",
    "-7.870232695E-1,-9.233695741E-1,-1.073921059E0,-1.227107364E0,\n",
    "-1.399788745E0,-1.575056790E0,-1.767145753E0,-1.948891417E0\n",
    "]),'m'))\n",
    "\n",
    "### Baseball\n",
    "\n",
    "drop_data['base']['pos'].append(Q_(np.array([\n",
    "-2.664755198E-2,-4.367235057E-2,-6.462707975E-2,\n",
    "-1.011454247E-1,-1.310553813E-1,-1.935970963E-1,-2.602199722E-1,\n",
    "-3.369954352E-1,-4.256249872E-1,-5.300028910E-1,-6.460000231E-1,\n",
    "-7.516147643E-1,-8.819911787E-1,-1.024100135E0,-1.185734071E0,\n",
    "-1.348705090E0,-1.524702426E0,-1.674635952E0,-1.876740599E0,-2.056624767E0\n",
    "]),'m'))\n",
    "\n",
    "drop_data['base']['pos'].append(Q_(np.array([\n",
    "1.494029606E-2,-4.660327995E-3,-3.371800097E-2,-5.976583962E-2,\n",
    "-1.093965489E-1,-1.635243614E-1,-2.423808379E-1,-3.229186144E-1,\n",
    "-4.108708311E-1,-5.141070872E-1,-6.252422019E-1,-7.519278209E-1,\n",
    "-8.904166982E-1,-1.035491405E0,-1.228814281E0,-1.389542590E0,\n",
    "-1.534582460E0,-1.707065799E0,-1.931825282E0\n",
    "]),'m'))\n",
    "\n",
    "drop_data['base']['pos'].append(Q_(np.array([\n",
    "-2.211146866E-2,-3.094413983E-2,-4.291057729E-2,-6.380538559E-2,\n",
    "-9.356474780E-2,-1.403537802E-1,-1.989516002E-1,-2.653531140E-1,\n",
    "-3.458360358E-1,-4.434010458E-1,-5.385375726E-1,-6.516118574E-1,\n",
    "-7.817008924E-1,-9.156849628E-1,-1.063953627E0,-1.229717403E0,\n",
    "-1.381908163E0,-1.560052643E0,-1.768917493E0,-1.993943144E0\n",
    "]),'m'))"
   ]
  },
  {
   "cell_type": "markdown",
   "id": "28a28267-7937-42a5-95d3-d845443c78ea",
   "metadata": {},
   "source": [
    "### Add errors\n",
    "$\\delta y = {\\rm diameter} + 1 {\\rm cm} + \\sqrt{20\\times{\\rm frame}}$"
   ]
  },
  {
   "cell_type": "code",
   "execution_count": 5,
   "id": "02624d50-96df-4bfa-81d8-7030950d3e60",
   "metadata": {},
   "outputs": [],
   "source": [
    "def get_error(frame,which):\n",
    "    if which=='red': diam=Q_(7,'cm')\n",
    "    elif which=='base': diam=Q_(7.5,'cm')\n",
    "    alfa = (diam/2.0)**2.0 / 20.0\n",
    "    return diam / 2.0 + Q_(1.0,'cm') + np.sqrt(alfa * frame)"
   ]
  },
  {
   "cell_type": "code",
   "execution_count": 6,
   "id": "98d2a7d1-c1f1-4853-95b9-6a9d44209014",
   "metadata": {},
   "outputs": [],
   "source": [
    "for key in drop_data.keys():\n",
    "    drop_data[key]['err'] = []\n",
    "    for i in range(len(drop_data[key]['pos'])):\n",
    "        errors = get_error(np.arange(0,len(drop_data[key]['pos'][i])),key)\n",
    "        drop_data[key]['err'].append(errors)"
   ]
  },
  {
   "cell_type": "markdown",
   "id": "be472968-f50f-4c56-ac87-1e1fde69c4bf",
   "metadata": {},
   "source": [
    "### Fit g\n",
    "\\begin{align*}\n",
    "g = \\sum a_i/\\sigma_i^2 \\Big/ \\sum 1/\\sigma_i^2 \\\\\n",
    "\\delta g = \\left[ \\sum 1/\\sigma_{i}^2 \\right]^{-1/2}\n",
    "\\end{align*}"
   ]
  },
  {
   "cell_type": "code",
   "execution_count": 61,
   "id": "6e1cfd60-c0f1-42cf-b866-ac35e6f4bee6",
   "metadata": {},
   "outputs": [],
   "source": [
    "def second_derivative(f,f_err):\n",
    "    g    = f.magnitude\n",
    "    h    = f_err.magnitude\n",
    "    rate = frame_rate.magnitude\n",
    "    N = len(f)\n",
    "    deriv = np.zeros(N)\n",
    "    error = np.zeros(N)\n",
    "    deriv[0]  = (g[0] - 2*g[1] + g[2])/rate**2.0\n",
    "    deriv[1]  = (g[0] - 2*g[1] + g[2])/rate**2.0\n",
    "    deriv[-2] = (g[-1] - 2*g[-2] + g[-3])/rate**2.0\n",
    "    deriv[-1] = (g[-1] - 2*g[-2] + g[-3])/rate**2.0\n",
    "    \n",
    "    error[0]  = np.sqrt(h[0]**2.0 + (2*h[1])**2.0 + h[2]**2.0)/rate**2.0\n",
    "    error[1]  = np.sqrt(h[0]**2.0 + (2*h[1])**2.0 + h[2]**2.0)/rate**2.0\n",
    "    error[-2] = np.sqrt(h[-1]**2.0 + (2*h[-2])**2.0 + h[-3]**2.0)/rate**2.0\n",
    "    error[-1] = np.sqrt(h[-1]**2.0 + (2*h[-2])**2.0 + h[-3]**2.0)/rate**2.0\n",
    "    \n",
    "    for i in range(2,N-2):\n",
    "        deriv[i] = (-g[i+2] + 16*g[i+1] - 30*g[i] + 16*g[i-1] - g[i-2])/12.0/rate**2.0\n",
    "        error[i] = np.sqrt(h[i+2]**2.0 + (16*h[i+1])**2.0 + (30*h[i])**2.0 + (16*h[i-1]**2.0) + (g[i-2])**2.0)/12.0/rate**2.0\n",
    "    return Q_(deriv,f.units/frame_rate.units**2),Q_(error,f_err.units/frame_rate.units**2)"
   ]
  },
  {
   "cell_type": "code",
   "execution_count": 62,
   "id": "cd79ab9a-9424-4f98-9bd3-e61ce069eabe",
   "metadata": {},
   "outputs": [
    {
     "data": {
      "image/png": "[encoded data removed]",
      "text/plain": [
       "<Figure size 432x288 with 1 Axes>"
      ]
     },
     "metadata": {
      "needs_background": "light"
     },
     "output_type": "display_data"
    }
   ],
   "source": [
    "y  = drop_data['red']['pos'][0].magnitude\n",
    "dy = drop_data['red']['err'][0].to('m').magnitude\n",
    "plt.errorbar(np.arange(0,len(y)),y,yerr=dy,dash_capstyle='butt',capsize=2)\n",
    "plt.show()"
   ]
  },
  {
   "cell_type": "code",
   "execution_count": 63,
   "id": "e4cefd62-9d78-4437-8532-933231f53e07",
   "metadata": {},
   "outputs": [
    {
     "data": {
      "text/plain": [
       "array([0.045     , 0.05282624, 0.05606797, 0.05855544, 0.06065248,\n",
       "       0.0625    , 0.06417029, 0.06570628, 0.06713594, 0.06847871,\n",
       "       0.06974874, 0.07095669, 0.07211088, 0.0732179 , 0.0742831 ,\n",
       "       0.07531089, 0.07630495, 0.07726841, 0.07820392])"
      ]
     },
     "execution_count": 63,
     "metadata": {},
     "output_type": "execute_result"
    }
   ],
   "source": [
    "dy"
   ]
  },
  {
   "cell_type": "code",
   "execution_count": 64,
   "id": "978f83fb-9b6a-4d86-863f-a2d68d400b7d",
   "metadata": {},
   "outputs": [
    {
     "data": {
      "text/html": [
       "<table><tbody><tr><th>Magnitude</th><td style='text-align:left;'><pre>[-3.4330245174 -3.4330245174 -15.260877076799998 -8.755608437250004<br> -13.61908488825001 -6.579745310249954 -7.695913275000033<br> -15.29819026500004 -3.407225902499952 -13.652129182500063<br> -10.49706552749997 -10.680308489999948 -6.64563973500005<br> -9.771192832499889 -6.160489387499854 -15.821271885000144<br> -17.10610844999997 -9.39901590000014 -9.39901590000014]</pre></td></tr><tr><th>Units</th><td style='text-align:left;'>meter/second<sup>2</sup></td></tr></tbody></table>"
      ],
      "text/latex": [
       "$\\begin{pmatrix}-3.4330245174 & -3.4330245174 & -15.260877076799998 & -8.755608437250004 & -13.61908488825001 & -6.579745310249954 & -7.695913275000033 & -15.29819026500004 & -3.407225902499952 & -13.652129182500063 & -10.49706552749997 & -10.680308489999948 & -6.64563973500005 & -9.771192832499889 & -6.160489387499854 & -15.821271885000144 & -17.10610844999997 & -9.39901590000014 & -9.39901590000014\\end{pmatrix}\\ \\frac{\\mathrm{meter}}{\\mathrm{second}^{2}}$"
      ],
      "text/plain": [
       "array([ -3.43302452,  -3.43302452, -15.26087708,  -8.75560844,\n",
       "       -13.61908489,  -6.57974531,  -7.69591328, -15.29819027,\n",
       "        -3.4072259 , -13.65212918, -10.49706553, -10.68030849,\n",
       "        -6.64563974,  -9.77119283,  -6.16048939, -15.82127189,\n",
       "       -17.10610845,  -9.3990159 ,  -9.3990159 ]) <Unit('meter / second ** 2')>"
      ]
     },
     "execution_count": 64,
     "metadata": {},
     "output_type": "execute_result"
    }
   ],
   "source": [
    "a = second_derivative(drop_data['red']['pos'][0],drop_data['red']['err'][0])\n",
    "a[0]"
   ]
  },
  {
   "cell_type": "code",
   "execution_count": 65,
   "id": "756c98b6-54fb-485b-9bf9-fd624301d740",
   "metadata": {},
   "outputs": [
    {
     "data": {
      "text/html": [
       "<table><tbody><tr><th>Magnitude</th><td style='text-align:left;'><pre>[115.01374319109976 115.01374319109976 145.34027836399494<br> 151.52641446617235 156.7810074224002 161.432439309 165.65129121886014<br> 169.5400332264045 173.1660195623256 176.5763675837888 179.80558809497575<br> 182.8798422221129 185.81955670268533 188.6410215084202 191.35748661257117<br> 193.97989135375042 196.51741300960902 170.33537062490953<br> 170.33537062490953]</pre></td></tr><tr><th>Units</th><td style='text-align:left;'>meter/second<sup>2</sup></td></tr></tbody></table>"
      ],
      "text/latex": [
       "$\\begin{pmatrix}115.01374319109976 & 115.01374319109976 & 145.34027836399494 & 151.52641446617235 & 156.7810074224002 & 161.432439309 & 165.65129121886014 & 169.5400332264045 & 173.1660195623256 & 176.5763675837888 & 179.80558809497575 & 182.8798422221129 & 185.81955670268533 & 188.6410215084202 & 191.35748661257117 & 193.97989135375042 & 196.51741300960902 & 170.33537062490953 & 170.33537062490953\\end{pmatrix}\\ \\frac{\\mathrm{meter}}{\\mathrm{second}^{2}}$"
      ],
      "text/plain": [
       "array([115.01374319, 115.01374319, 145.34027836, 151.52641447,\n",
       "       156.78100742, 161.43243931, 165.65129122, 169.54003323,\n",
       "       173.16601956, 176.57636758, 179.80558809, 182.87984222,\n",
       "       185.8195567 , 188.64102151, 191.35748661, 193.97989135,\n",
       "       196.51741301, 170.33537062, 170.33537062]) <Unit('meter / second ** 2')>"
      ]
     },
     "execution_count": 65,
     "metadata": {},
     "output_type": "execute_result"
    }
   ],
   "source": [
    "a[1].to('m/s**2')"
   ]
  },
  {
   "cell_type": "code",
   "execution_count": 66,
   "id": "7f437cf3-461e-4836-b9f4-a39a377f9155",
   "metadata": {},
   "outputs": [
    {
     "data": {
      "image/png": "[encoded data removed]",
      "text/plain": [
       "<Figure size 432x288 with 1 Axes>"
      ]
     },
     "metadata": {
      "needs_background": "light"
     },
     "output_type": "display_data"
    }
   ],
   "source": [
    "plt.errorbar(np.arange(0,len(a[0])),a[0].magnitude,yerr=a[1].to('m/s**2').magnitude,fmt='.')\n",
    "plt.axhline(y=-9.8)\n",
    "plt.show()"
   ]
  },
  {
   "cell_type": "code",
   "execution_count": null,
   "id": "8e9c2cd2-c3fe-4ef4-9dc7-ffe2061a0ddc",
   "metadata": {},
   "outputs": [],
   "source": [
    "# np.set_printoptions(precision=3)\n",
    "g_fits = []\n",
    "for _ in drop_data.keys():\n",
    "    # print(_)\n",
    "    for arr in drop_data[_]['pos']:\n",
    "        v = derivative(arr)\n",
    "        a = derivative(v)\n",
    "        g_fits.append(fit_g(a))\n",
    "g_fits = np.array(g_fits)\n",
    "# print(g_fits)\n",
    "# print(np.mean(g_fits))\n",
    "# print(np.std(g_fits))\n",
    "# print(np.std(g_fits)/np.mean(g_fits) * 100.0)\n",
    "# print(abs(9.8 - np.mean(g_fits))/np.std(g_fits))\n",
    "    #     print(arr)\n",
    "    #     print(v)\n",
    "    #     print(a)\n",
    "    #     print(free_fall_best_fit(v,a))\n",
    "    #     print(fit_g(a))\n",
    "    #     print()\n",
    "    # print()"
   ]
  },
  {
   "cell_type": "code",
   "execution_count": 75,
   "id": "3ac65f20-f734-4352-b1c2-bceb0f423c1d",
   "metadata": {},
   "outputs": [
    {
     "data": {
      "image/png": "[encoded data removed]",
      "text/latex": [
       "$\\displaystyle 9.9457479743625$"
      ],
      "text/plain": [
       "9.945747974362495"
      ]
     },
     "execution_count": 75,
     "metadata": {},
     "output_type": "execute_result"
    }
   ],
   "source": [
    "-np.sum(a)/float(len(a))"
   ]
  },
  {
   "cell_type": "code",
   "execution_count": 76,
   "id": "545ea138-2394-4569-8d57-b802f536100f",
   "metadata": {},
   "outputs": [
    {
     "data": {
      "text/plain": [
       "<matplotlib.lines.Line2D at 0x7facd0bd2880>"
      ]
     },
     "execution_count": 76,
     "metadata": {},
     "output_type": "execute_result"
    },
    {
     "data": {
      "image/png": "[encoded data removed]",
      "text/plain": [
       "<Figure size 432x288 with 1 Axes>"
      ]
     },
     "metadata": {
      "needs_background": "light"
     },
     "output_type": "display_data"
    }
   ],
   "source": [
    "plt.plot(np.arange(0,len(a))/frame_rate,a,'k.')\n",
    "plt.axhline(y=-10)"
   ]
  },
  {
   "cell_type": "code",
   "execution_count": null,
   "id": "beda62b0-a03c-4f04-8e82-f4b1f60ca26c",
   "metadata": {},
   "outputs": [],
   "source": []
  },
  {
   "cell_type": "code",
   "execution_count": null,
   "id": "7d2c9076-480a-4ad4-ae66-f0e877031505",
   "metadata": {},
   "outputs": [],
   "source": []
  },
  {
   "cell_type": "code",
   "execution_count": 81,
   "id": "7b121efa-0e29-4094-a001-ad4da56bde9b",
   "metadata": {},
   "outputs": [
    {
     "data": {
      "image/png": "[encoded data removed]",
      "text/plain": [
       "<Figure size 1008x720 with 1 Axes>"
      ]
     },
     "metadata": {
      "needs_background": "light"
     },
     "output_type": "display_data"
    }
   ],
   "source": [
    "f = lambda g,t: -g/2.0*t**2.0\n",
    "\n",
    "fig,ax = plt.subplots(nrows=1,ncols=1,figsize=(14,10))\n",
    "\n",
    "max_frames = 0\n",
    "for _ in drop_data.keys():\n",
    "    if _ == 'red': linestyle='r.'\n",
    "    if _ == 'base': linestyle='k.'\n",
    "    for arr in drop_data[_]['pos']:\n",
    "        if len(arr) > max_frames: max_frames = len(arr)\n",
    "        ax.plot(frame_rate*np.arange(0,len(arr)),arr,linestyle)\n",
    "t_vals = frame_rate*np.arange(0,max_frames)\n",
    "max_vals = f(np.mean(g_fits)+np.std(g_fits),t_vals)\n",
    "min_vals = f(np.mean(g_fits)-np.std(g_fits),t_vals)\n",
    "ax.fill_between(t_vals,max_vals,min_vals,color='y',alpha=0.5)\n",
    "ax.plot(t_vals,f(np.mean(g_fits),t_vals),'g--')\n",
    "# g = lambda t: popt/2.0*t**2.0\n",
    "# plt.plot(drop_data['red']['time'][0],f(drop_data['red']['time'][0]),'r-')\n",
    "# plt.plot(drop_data['red']['time'][0],g(drop_data['red']['time'][0]),'c-')\n",
    "plt.show()"
   ]
  },
  {
   "cell_type": "code",
   "execution_count": 56,
   "id": "6205b7f8-4637-4d72-be3a-ac4c1ed1b5fa",
   "metadata": {},
   "outputs": [],
   "source": [
    "vel = derivative(drop_data['red']['pos'][0],drop_data['red']['time'][0])\n",
    "acc = derivative(vel,drop_data['red']['time'][0])"
   ]
  },
  {
   "cell_type": "code",
   "execution_count": 61,
   "id": "34e5f465-caab-4363-979f-7abf525774d6",
   "metadata": {},
   "outputs": [
    {
     "name": "stdout",
     "output_type": "stream",
     "text": [
      "[9.946]\n",
      "[9.946]\n",
      "[9.946]\n",
      "[9.946]\n",
      "[9.946]\n",
      "[9.946]\n"
     ]
    }
   ],
   "source": [
    "def func(t,g):\n",
    "    return -g\n",
    "\n",
    "for _ in drop_data.keys():\n",
    "    for arr in drop_data[_]['pos']:\n",
    "        v\n",
    "        popt,pcov = curve_fit(func,np.arange(0,len(a))/len(a),a)\n",
    "        print(popt)\n",
    "        # print(popt[0] - 2*pcov[0][0])\n",
    "        np.sqrt(np.diag(pcov))"
   ]
  },
  {
   "cell_type": "code",
   "execution_count": null,
   "id": "d8adc3a4-55fe-4539-96a5-8f6b1d7750b6",
   "metadata": {},
   "outputs": [],
   "source": [
    "plt.plot(drop_data['red']['time'][0],vel,'k.')\n",
    "plt.plot(drop_data['red']['time'][0],acc,'r.')\n",
    "plt.axhline(y=popt)"
   ]
  },
  {
   "cell_type": "code",
   "execution_count": null,
   "id": "13671056-f701-4926-8ba5-7f9530e7b689",
   "metadata": {},
   "outputs": [],
   "source": [
    "mean = popt[0]\n",
    "err  = np.sqrt(pcov[0][0])\n",
    "x = np.linspace(norm.ppf(0.01,mean,err),norm.ppf(0.99,mean,err), 100)\n",
    "z = abs(mean + 9.8)/err\n",
    "print(z,mean-z*err)\n",
    "xp = np.linspace(mean-z*err,mean+z*err,100)\n",
    "plt.plot(x,norm.pdf(x,mean,err),'k')\n",
    "plt.plot(-9.8,norm.pdf(-9.8,mean,err),'yo')\n",
    "plt.fill_between(xp,norm.pdf(xp,mean,err),color='red')"
   ]
  },
  {
   "cell_type": "code",
   "execution_count": null,
   "id": "9d94469d-3629-4b50-b289-033790a6d3d6",
   "metadata": {},
   "outputs": [],
   "source": [
    "x"
   ]
  },
  {
   "cell_type": "code",
   "execution_count": null,
   "id": "d98d8e46-3a86-41ee-8fa2-6a793e3bbffd",
   "metadata": {},
   "outputs": [],
   "source": []
  }
 ],
 "metadata": {
  "kernelspec": {
   "display_name": "Python 3 (ipykernel)",
   "language": "python",
   "name": "python3"
  },
  "language_info": {
   "codemirror_mode": {
    "name": "ipython",
    "version": 3
   },
   "file_extension": ".py",
   "mimetype": "text/x-python",
   "name": "python",
   "nbconvert_exporter": "python",
   "pygments_lexer": "ipython3",
   "version": "3.9.7"
  }
 },
 "nbformat": 4,
 "nbformat_minor": 5
}

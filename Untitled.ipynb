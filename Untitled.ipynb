{
 "cells": [
  {
   "cell_type": "code",
   "execution_count": 78,
   "id": "cd1450b5-931d-4999-b28f-e36b1f63af04",
   "metadata": {},
   "outputs": [],
   "source": [
    "import numpy as np\n",
    "from scipy.optimize import curve_fit\n",
    "from scipy.stats import norm\n",
    "import matplotlib.pyplot as plt"
   ]
  },
  {
   "cell_type": "code",
   "execution_count": 63,
   "id": "e65cd098-9b33-4a46-953b-c2c2a88311f7",
   "metadata": {},
   "outputs": [],
   "source": [
    "drop_data = {}\n",
    "drop_data['red'] = {}\n",
    "drop_data['red']['time'] = []\n",
    "drop_data['red']['pos'] = []"
   ]
  },
  {
   "cell_type": "code",
   "execution_count": 64,
   "id": "2f9dd6b9-f539-4556-8fa2-194a56177625",
   "metadata": {},
   "outputs": [],
   "source": [
    "drop_data['red']['time'].append(np.array([0.000000000E0,3.333333333E-2,6.666666667E-2,1.000000000E-1,\n",
    "                                          1.333333333E-1,1.666666667E-1,2.000000000E-1,2.333333333E-1,\n",
    "                                          2.666666667E-1,3.000000000E-1,3.333333333E-1,3.666666667E-1,\n",
    "                                          4.000000000E-1,4.333333333E-1,4.666666667E-1,5.000000000E-1,\n",
    "                                          5.333333333E-1,5.666666667E-1,6.000000000E-1,6.333333333E-1]))\n",
    "drop_data['red']['pos'].append(np.array([-1.312152144E-2,-1.710597692E-2,-3.129556856E-2,-5.611054007E-2,\n",
    "                                         -9.630950465E-2,-1.379514902E-1,-1.978232447E-1,-2.695031302E-1,\n",
    "                                         -3.552939868E-1,-4.490321964E-1,-5.568901690E-1,-6.740532868E-1,\n",
    "                                         -8.015888821E-1,-9.394879081E-1,-1.087777951E0,-1.246517553E0,\n",
    "                                         -1.414349058E0,-1.604297880E0,-1.790352788E0,-1.997221307E0]))"
   ]
  },
  {
   "cell_type": "code",
   "execution_count": 75,
   "id": "7b121efa-0e29-4094-a001-ad4da56bde9b",
   "metadata": {},
   "outputs": [
    {
     "data": {
      "text/plain": [
       "[<matplotlib.lines.Line2D at 0x7f570047e310>]"
      ]
     },
     "execution_count": 75,
     "metadata": {},
     "output_type": "execute_result"
    },
    {
     "data": {
      "image/png": "[encoded data removed]",
      "text/plain": [
       "<Figure size 432x288 with 1 Axes>"
      ]
     },
     "metadata": {
      "needs_background": "light"
     },
     "output_type": "display_data"
    }
   ],
   "source": [
    "plt.plot(drop_data['red']['time'][0],drop_data['red']['pos'][0],'k.')\n",
    "f = lambda t: -9.8/2.0*t**2.0\n",
    "g = lambda t: popt/2.0*t**2.0\n",
    "plt.plot(drop_data['red']['time'][0],f(drop_data['red']['time'][0]),'r-')\n",
    "plt.plot(drop_data['red']['time'][0],g(drop_data['red']['time'][0]),'c-')"
   ]
  },
  {
   "cell_type": "code",
   "execution_count": 66,
   "id": "0dbf0899-d16e-4c8e-87ca-5220333db115",
   "metadata": {},
   "outputs": [],
   "source": [
    "def derivative(arr1,arr2):\n",
    "    h = np.diff(arr2)[0]\n",
    "    deriv = np.zeros(len(arr1))\n",
    "    deriv[0]  = (arr1[1]-arr1[0])/(arr2[1]-arr2[0])\n",
    "    deriv[-1] = (arr1[-1]-arr1[-2])/(arr2[-1]-arr2[-2])\n",
    "    for i in range(1,len(arr1)-1):\n",
    "        deriv[i] = (arr1[i+1]-arr1[i-1])/2.0/h#(arr2[i+1]-arr2[i-1])\n",
    "    return deriv\n",
    "\n",
    "# def second_derivative(arr1,arr2):\n",
    "#     deriv = np.zeros(len(arr1))\n",
    "#     deriv[0]  = 0#(arr1[1]-arr1[0])/(arr2[1]-arr2[0])\n",
    "#     deriv[-1] = 0#(arr1[-1]-arr1[-2])/(arr2[-1]-arr2[-2])\n",
    "#     for i in range(1,len(arr1)-1):\n",
    "#         deriv[i] = (arr1[i+]-arrarr1[i-1])/(arr2[i+1]-arr2[i-1])\n",
    "#     return deriv"
   ]
  },
  {
   "cell_type": "code",
   "execution_count": 59,
   "id": "6205b7f8-4637-4d72-be3a-ac4c1ed1b5fa",
   "metadata": {},
   "outputs": [],
   "source": [
    "vel = derivative(drop_data['red']['pos'][0],drop_data['red']['time'][0])\n",
    "acc = derivative(vel,drop_data['red']['time'][0])"
   ]
  },
  {
   "cell_type": "code",
   "execution_count": 110,
   "id": "34e5f465-caab-4363-979f-7abf525774d6",
   "metadata": {},
   "outputs": [
    {
     "name": "stdout",
     "output_type": "stream",
     "text": [
      "[-9.47874378]\n",
      "-9.785432720990372\n"
     ]
    },
    {
     "data": {
      "text/plain": [
       "array([0.39159223])"
      ]
     },
     "execution_count": 110,
     "metadata": {},
     "output_type": "execute_result"
    }
   ],
   "source": [
    "def func(t,g):\n",
    "    return g\n",
    "\n",
    "popt,pcov = curve_fit(func,drop_data['red']['time'][0],acc)\n",
    "print(popt)\n",
    "print(popt[0] - 2*pcov[0][0])\n",
    "np.sqrt(np.diag(pcov))"
   ]
  },
  {
   "cell_type": "code",
   "execution_count": 116,
   "id": "d8adc3a4-55fe-4539-96a5-8f6b1d7750b6",
   "metadata": {},
   "outputs": [
    {
     "data": {
      "text/plain": [
       "<matplotlib.lines.Line2D at 0x7f56df1c8c40>"
      ]
     },
     "execution_count": 116,
     "metadata": {},
     "output_type": "execute_result"
    },
    {
     "data": {
      "image/png": "[encoded data removed]",
      "text/plain": [
       "<Figure size 432x288 with 1 Axes>"
      ]
     },
     "metadata": {
      "needs_background": "light"
     },
     "output_type": "display_data"
    }
   ],
   "source": [
    "plt.plot(drop_data['red']['time'][0],vel,'k.')\n",
    "plt.plot(drop_data['red']['time'][0],acc,'r.')\n",
    "plt.axhline(y=popt)"
   ]
  },
  {
   "cell_type": "code",
   "execution_count": 121,
   "id": "13671056-f701-4926-8ba5-7f9530e7b689",
   "metadata": {},
   "outputs": [
    {
     "name": "stdout",
     "output_type": "stream",
     "text": [
      "0.8203845741552743 -9.8\n"
     ]
    },
    {
     "data": {
      "text/plain": [
       "<matplotlib.collections.PolyCollection at 0x7f56df075880>"
      ]
     },
     "execution_count": 121,
     "metadata": {},
     "output_type": "execute_result"
    },
    {
     "data": {
      "image/png": "[encoded data removed]",
      "text/plain": [
       "<Figure size 432x288 with 1 Axes>"
      ]
     },
     "metadata": {
      "needs_background": "light"
     },
     "output_type": "display_data"
    }
   ],
   "source": [
    "mean = popt[0]\n",
    "err  = np.sqrt(pcov[0][0])\n",
    "x = np.linspace(norm.ppf(0.01,mean,err),norm.ppf(0.99,mean,err), 100)\n",
    "z = abs(mean + 9.8)/err\n",
    "print(z,mean-z*err)\n",
    "xp = np.linspace(mean-z*err,mean+z*err,100)\n",
    "plt.plot(x,norm.pdf(x,mean,err))\n",
    "plt.plot(-9.8,norm.pdf(-9.8,mean,err),'k.')\n",
    "plt.fill_between(xp,norm.pdf(xp,mean,err),color='red')"
   ]
  },
  {
   "cell_type": "code",
   "execution_count": 99,
   "id": "9d94469d-3629-4b50-b289-033790a6d3d6",
   "metadata": {},
   "outputs": [
    {
     "data": {
      "text/plain": [
       "array([-2.32634787, -2.27935095, -2.23235402, -2.18535709, -2.13836017,\n",
       "       -2.09136324, -2.04436631, -1.99736939, -1.95037246, -1.90337553,\n",
       "       -1.85637861, -1.80938168, -1.76238475, -1.71538783, -1.6683909 ,\n",
       "       -1.62139397, -1.57439705, -1.52740012, -1.48040319, -1.43340627,\n",
       "       -1.38640934, -1.33941241, -1.29241549, -1.24541856, -1.19842163,\n",
       "       -1.15142471, -1.10442778, -1.05743085, -1.01043393, -0.963437  ,\n",
       "       -0.91644007, -0.86944314, -0.82244622, -0.77544929, -0.72845236,\n",
       "       -0.68145544, -0.63445851, -0.58746158, -0.54046466, -0.49346773,\n",
       "       -0.4464708 , -0.39947388, -0.35247695, -0.30548002, -0.2584831 ,\n",
       "       -0.21148617, -0.16448924, -0.11749232, -0.07049539, -0.02349846,\n",
       "        0.02349846,  0.07049539,  0.11749232,  0.16448924,  0.21148617,\n",
       "        0.2584831 ,  0.30548002,  0.35247695,  0.39947388,  0.4464708 ,\n",
       "        0.49346773,  0.54046466,  0.58746158,  0.63445851,  0.68145544,\n",
       "        0.72845236,  0.77544929,  0.82244622,  0.86944314,  0.91644007,\n",
       "        0.963437  ,  1.01043393,  1.05743085,  1.10442778,  1.15142471,\n",
       "        1.19842163,  1.24541856,  1.29241549,  1.33941241,  1.38640934,\n",
       "        1.43340627,  1.48040319,  1.52740012,  1.57439705,  1.62139397,\n",
       "        1.6683909 ,  1.71538783,  1.76238475,  1.80938168,  1.85637861,\n",
       "        1.90337553,  1.95037246,  1.99736939,  2.04436631,  2.09136324,\n",
       "        2.13836017,  2.18535709,  2.23235402,  2.27935095,  2.32634787])"
      ]
     },
     "execution_count": 99,
     "metadata": {},
     "output_type": "execute_result"
    }
   ],
   "source": [
    "x"
   ]
  },
  {
   "cell_type": "code",
   "execution_count": null,
   "id": "d98d8e46-3a86-41ee-8fa2-6a793e3bbffd",
   "metadata": {},
   "outputs": [],
   "source": []
  }
 ],
 "metadata": {
  "kernelspec": {
   "display_name": "Python 3 (ipykernel)",
   "language": "python",
   "name": "python3"
  },
  "language_info": {
   "codemirror_mode": {
    "name": "ipython",
    "version": 3
   },
   "file_extension": ".py",
   "mimetype": "text/x-python",
   "name": "python",
   "nbconvert_exporter": "python",
   "pygments_lexer": "ipython3",
   "version": "3.8.10"
  }
 },
 "nbformat": 4,
 "nbformat_minor": 5
}
